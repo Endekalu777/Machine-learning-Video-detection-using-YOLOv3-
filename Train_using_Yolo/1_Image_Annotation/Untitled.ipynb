{
 "cells": [
  {
   "cell_type": "code",
   "execution_count": 15,
   "id": "bea6c0e8",
   "metadata": {},
   "outputs": [
    {
     "name": "stderr",
     "output_type": "stream",
     "text": [
      "usage: ipykernel_launcher.py [-h] [--VoTT_Folder VOTT_FOLDER]\n",
      "                             [--VoTT_csv VOTT_CSV]\n",
      "                             [--YOLO_filename YOLO_FILENAME]\n",
      "ipykernel_launcher.py: error: unrecognized arguments: -f C:\\Users\\Ashis\\AppData\\Roaming\\jupyter\\runtime\\kernel-074e7b35-382f-418a-896a-5c228c82e9f5.json\n"
     ]
    },
    {
     "ename": "SystemExit",
     "evalue": "2",
     "output_type": "error",
     "traceback": [
      "An exception has occurred, use %tb to see the full traceback.\n",
      "\u001b[1;31mSystemExit\u001b[0m\u001b[1;31m:\u001b[0m 2\n"
     ]
    }
   ],
   "source": [
    "from PIL import Image\n",
    "from os import path, makedirs\n",
    "import os\n",
    "import re\n",
    "import pandas as pd\n",
    "import sys\n",
    "import argparse\n",
    "\n",
    "\n",
    "def get_parent_dir(n=1):\n",
    "    \"\"\"returns the n-th parent dicrectory of the current\n",
    "    working directory\"\"\"\n",
    "    current_path = current_path = os.path.dirname(os.path.abspath(''))\n",
    "    for k in range(n):\n",
    "        current_path = os.path.dirname(current_path)\n",
    "    return current_path\n",
    "\n",
    "\n",
    "sys.path.append(os.path.join(r\"C:\\Users\\Ashis\\Downloads\\Compressed\\Train your YOLO\\TrainYourOwnYOLO-master\", \"Utils\"))\n",
    "from Convert_Format import convert_vott_csv_to_yolo\n",
    "\n",
    "Data_Folder = os.path.join(get_parent_dir(1), \"Data\")\n",
    "VoTT_Folder = os.path.join(r\"C:\\Users\\Ashis\\Downloads\\Compressed\\Train your YOLO\\TrainYourOwnYOLO-master\\Data\\Source_Images\\Training_Images\\vott-csv-export\", \"Source_Images\", \"Training_Images\", \"vott-csv-export\")\n",
    "VoTT_csv = os.path.join(VoTT_Folder, \"Annotations-export.csv\")\n",
    "YOLO_filename = os.path.join(VoTT_Folder, \"data_train.txt\")\n",
    "\n",
    "model_folder = os.path.join(Data_Folder, \"Model_Weights\")\n",
    "classes_filename = os.path.join(model_folder, \"data_classes.txt\")\n",
    "\n",
    "if __name__ == \"__main__\":\n",
    "    # surpress any inhereted default values\n",
    "    parser = argparse.ArgumentParser(argument_default=argparse.SUPPRESS)\n",
    "    \"\"\"\n",
    "    Command line options\n",
    "    \"\"\"\n",
    "    parser.add_argument(\n",
    "        \"--VoTT_Folder\",\n",
    "        type=str,\n",
    "        default=VoTT_Folder,\n",
    "        help=\"Absolute path to the exported files from the image tagging step with VoTT. Default is \"\n",
    "        + VoTT_Folder,\n",
    "    )\n",
    "\n",
    "    parser.add_argument(\n",
    "        \"--VoTT_csv\",\n",
    "        type=str,\n",
    "        default=VoTT_csv,\n",
    "        help=\"Absolute path to the *.csv file exported from VoTT. Default is \"\n",
    "        + VoTT_csv,\n",
    "    )\n",
    "    parser.add_argument(\n",
    "        \"--YOLO_filename\",\n",
    "        type=str,\n",
    "        default=YOLO_filename,\n",
    "        help=\"Absolute path to the file where the annotations in YOLO format should be saved. Default is \"\n",
    "        + YOLO_filename,\n",
    "    )\n",
    "\n",
    "    FLAGS = parser.parse_args()\n",
    "\n",
    "    # Prepare the dataset for YOLO\n",
    "    multi_df = pd.read_csv(FLAGS.VoTT_csv)\n",
    "    labels = multi_df[\"label\"].unique()\n",
    "    labeldict = dict(zip(labels, range(len(labels))))\n",
    "    multi_df.drop_duplicates(subset=None, keep=\"first\", inplace=True)\n",
    "    train_path = FLAGS.VoTT_Folder\n",
    "    convert_vott_csv_to_yolo(\n",
    "        multi_df, labeldict, path=train_path, target_name=FLAGS.YOLO_filename\n",
    "    )\n",
    "\n",
    "    # Make classes file\n",
    "    file = open(classes_filename, \"w\")\n",
    "\n",
    "    # Sort Dict by Values\n",
    "    SortedLabelDict = sorted(labeldict.items(), key=lambda x: x[1])\n",
    "    for elem in SortedLabelDict:\n",
    "        file.write(elem[0] + \"\\n\")\n",
    "    file.close()\n"
   ]
  },
  {
   "cell_type": "code",
   "execution_count": 13,
   "id": "3b844161",
   "metadata": {},
   "outputs": [
    {
     "ename": "Exception",
     "evalue": "File `'ipykernel_launcher.py'` not found.",
     "output_type": "error",
     "traceback": [
      "\u001b[1;31m---------------------------------------------------------------------------\u001b[0m",
      "\u001b[1;31mOSError\u001b[0m                                   Traceback (most recent call last)",
      "File \u001b[1;32mC:\\ProgramData\\anaconda3\\Lib\\site-packages\\IPython\\core\\magics\\execution.py:716\u001b[0m, in \u001b[0;36mExecutionMagics.run\u001b[1;34m(self, parameter_s, runner, file_finder)\u001b[0m\n\u001b[0;32m    715\u001b[0m     fpath \u001b[38;5;241m=\u001b[39m arg_lst[\u001b[38;5;241m0\u001b[39m]\n\u001b[1;32m--> 716\u001b[0m     filename \u001b[38;5;241m=\u001b[39m file_finder(fpath)\n\u001b[0;32m    717\u001b[0m \u001b[38;5;28;01mexcept\u001b[39;00m \u001b[38;5;167;01mIndexError\u001b[39;00m \u001b[38;5;28;01mas\u001b[39;00m e:\n",
      "File \u001b[1;32mC:\\ProgramData\\anaconda3\\Lib\\site-packages\\IPython\\utils\\path.py:90\u001b[0m, in \u001b[0;36mget_py_filename\u001b[1;34m(name)\u001b[0m\n\u001b[0;32m     89\u001b[0m         \u001b[38;5;28;01mreturn\u001b[39;00m py_name\n\u001b[1;32m---> 90\u001b[0m \u001b[38;5;28;01mraise\u001b[39;00m \u001b[38;5;167;01mIOError\u001b[39;00m(\u001b[38;5;124m\"\u001b[39m\u001b[38;5;124mFile `\u001b[39m\u001b[38;5;132;01m%r\u001b[39;00m\u001b[38;5;124m` not found.\u001b[39m\u001b[38;5;124m\"\u001b[39m \u001b[38;5;241m%\u001b[39m name)\n",
      "\u001b[1;31mOSError\u001b[0m: File `'ipykernel_launcher.py'` not found.",
      "\nThe above exception was the direct cause of the following exception:\n",
      "\u001b[1;31mException\u001b[0m                                 Traceback (most recent call last)",
      "Cell \u001b[1;32mIn[13], line 1\u001b[0m\n\u001b[1;32m----> 1\u001b[0m get_ipython()\u001b[38;5;241m.\u001b[39mrun_line_magic(\u001b[38;5;124m'\u001b[39m\u001b[38;5;124mrun\u001b[39m\u001b[38;5;124m'\u001b[39m, \u001b[38;5;124m'\u001b[39m\u001b[38;5;124mipykernel_launcher.py --VoTT_Folder \u001b[39m\u001b[38;5;124m\"\u001b[39m\u001b[38;5;124mC:\u001b[39m\u001b[38;5;130;01m\\\\\u001b[39;00m\u001b[38;5;124mUsers\u001b[39m\u001b[38;5;130;01m\\\\\u001b[39;00m\u001b[38;5;124mAshis\u001b[39m\u001b[38;5;130;01m\\\\\u001b[39;00m\u001b[38;5;124mDownloads\u001b[39m\u001b[38;5;130;01m\\\\\u001b[39;00m\u001b[38;5;124mCompressed\u001b[39m\u001b[38;5;130;01m\\\\\u001b[39;00m\u001b[38;5;124mTrain your YOLO\u001b[39m\u001b[38;5;130;01m\\\\\u001b[39;00m\u001b[38;5;124mTrainYourOwnYOLO-master\u001b[39m\u001b[38;5;130;01m\\\\\u001b[39;00m\u001b[38;5;124mData\u001b[39m\u001b[38;5;130;01m\\\\\u001b[39;00m\u001b[38;5;124mSource_Images\u001b[39m\u001b[38;5;130;01m\\\\\u001b[39;00m\u001b[38;5;124mTraining_Images\u001b[39m\u001b[38;5;130;01m\\\\\u001b[39;00m\u001b[38;5;124mvott-csv-export\u001b[39m\u001b[38;5;124m\"\u001b[39m\u001b[38;5;124m --VoTT_csv \u001b[39m\u001b[38;5;124m\"\u001b[39m\u001b[38;5;124mC:\u001b[39m\u001b[38;5;130;01m\\\\\u001b[39;00m\u001b[38;5;124mUsers\u001b[39m\u001b[38;5;130;01m\\\\\u001b[39;00m\u001b[38;5;124mAshis\u001b[39m\u001b[38;5;130;01m\\\\\u001b[39;00m\u001b[38;5;124mDownloads\u001b[39m\u001b[38;5;130;01m\\\\\u001b[39;00m\u001b[38;5;124mCompressed\u001b[39m\u001b[38;5;130;01m\\\\\u001b[39;00m\u001b[38;5;124mTrain your YOLO\u001b[39m\u001b[38;5;130;01m\\\\\u001b[39;00m\u001b[38;5;124mTrainYourOwnYOLO-master\u001b[39m\u001b[38;5;130;01m\\\\\u001b[39;00m\u001b[38;5;124mData\u001b[39m\u001b[38;5;130;01m\\\\\u001b[39;00m\u001b[38;5;124mSource_Images\u001b[39m\u001b[38;5;130;01m\\\\\u001b[39;00m\u001b[38;5;124mTraining_Images\u001b[39m\u001b[38;5;130;01m\\\\\u001b[39;00m\u001b[38;5;124mvott-csv-export\u001b[39m\u001b[38;5;130;01m\\\\\u001b[39;00m\u001b[38;5;124mAnnotations-export.csv\u001b[39m\u001b[38;5;124m\"\u001b[39m\u001b[38;5;124m --YOLO_filename \u001b[39m\u001b[38;5;124m\"\u001b[39m\u001b[38;5;124mC:\u001b[39m\u001b[38;5;130;01m\\\\\u001b[39;00m\u001b[38;5;124mUsers\u001b[39m\u001b[38;5;130;01m\\\\\u001b[39;00m\u001b[38;5;124mAshis\u001b[39m\u001b[38;5;130;01m\\\\\u001b[39;00m\u001b[38;5;124mDownloads\u001b[39m\u001b[38;5;130;01m\\\\\u001b[39;00m\u001b[38;5;124mCompressed\u001b[39m\u001b[38;5;130;01m\\\\\u001b[39;00m\u001b[38;5;124mTrain your YOLO\u001b[39m\u001b[38;5;130;01m\\\\\u001b[39;00m\u001b[38;5;124mTrainYourOwnYOLO-master\u001b[39m\u001b[38;5;130;01m\\\\\u001b[39;00m\u001b[38;5;124mData\u001b[39m\u001b[38;5;130;01m\\\\\u001b[39;00m\u001b[38;5;124mSource_Images\u001b[39m\u001b[38;5;130;01m\\\\\u001b[39;00m\u001b[38;5;124mTraining_Images\u001b[39m\u001b[38;5;130;01m\\\\\u001b[39;00m\u001b[38;5;124mvott-csv-export\u001b[39m\u001b[38;5;130;01m\\\\\u001b[39;00m\u001b[38;5;124mdata_train.txt\u001b[39m\u001b[38;5;124m\"\u001b[39m\u001b[38;5;124m'\u001b[39m)\n",
      "File \u001b[1;32mC:\\ProgramData\\anaconda3\\Lib\\site-packages\\IPython\\core\\interactiveshell.py:2432\u001b[0m, in \u001b[0;36mInteractiveShell.run_line_magic\u001b[1;34m(self, magic_name, line, _stack_depth)\u001b[0m\n\u001b[0;32m   2430\u001b[0m     kwargs[\u001b[38;5;124m'\u001b[39m\u001b[38;5;124mlocal_ns\u001b[39m\u001b[38;5;124m'\u001b[39m] \u001b[38;5;241m=\u001b[39m \u001b[38;5;28mself\u001b[39m\u001b[38;5;241m.\u001b[39mget_local_scope(stack_depth)\n\u001b[0;32m   2431\u001b[0m \u001b[38;5;28;01mwith\u001b[39;00m \u001b[38;5;28mself\u001b[39m\u001b[38;5;241m.\u001b[39mbuiltin_trap:\n\u001b[1;32m-> 2432\u001b[0m     result \u001b[38;5;241m=\u001b[39m fn(\u001b[38;5;241m*\u001b[39margs, \u001b[38;5;241m*\u001b[39m\u001b[38;5;241m*\u001b[39mkwargs)\n\u001b[0;32m   2434\u001b[0m \u001b[38;5;66;03m# The code below prevents the output from being displayed\u001b[39;00m\n\u001b[0;32m   2435\u001b[0m \u001b[38;5;66;03m# when using magics with decorator @output_can_be_silenced\u001b[39;00m\n\u001b[0;32m   2436\u001b[0m \u001b[38;5;66;03m# when the last Python token in the expression is a ';'.\u001b[39;00m\n\u001b[0;32m   2437\u001b[0m \u001b[38;5;28;01mif\u001b[39;00m \u001b[38;5;28mgetattr\u001b[39m(fn, magic\u001b[38;5;241m.\u001b[39mMAGIC_OUTPUT_CAN_BE_SILENCED, \u001b[38;5;28;01mFalse\u001b[39;00m):\n",
      "File \u001b[1;32mC:\\ProgramData\\anaconda3\\Lib\\site-packages\\IPython\\core\\magics\\execution.py:727\u001b[0m, in \u001b[0;36mExecutionMagics.run\u001b[1;34m(self, parameter_s, runner, file_finder)\u001b[0m\n\u001b[0;32m    725\u001b[0m     \u001b[38;5;28;01mif\u001b[39;00m os\u001b[38;5;241m.\u001b[39mname \u001b[38;5;241m==\u001b[39m \u001b[38;5;124m'\u001b[39m\u001b[38;5;124mnt\u001b[39m\u001b[38;5;124m'\u001b[39m \u001b[38;5;129;01mand\u001b[39;00m re\u001b[38;5;241m.\u001b[39mmatch(\u001b[38;5;124mr\u001b[39m\u001b[38;5;124m\"\u001b[39m\u001b[38;5;124m^\u001b[39m\u001b[38;5;124m'\u001b[39m\u001b[38;5;124m.*\u001b[39m\u001b[38;5;124m'\u001b[39m\u001b[38;5;124m$\u001b[39m\u001b[38;5;124m\"\u001b[39m,fpath):\n\u001b[0;32m    726\u001b[0m         warn(\u001b[38;5;124m'\u001b[39m\u001b[38;5;124mFor Windows, use double quotes to wrap a filename: \u001b[39m\u001b[38;5;132;01m%r\u001b[39;00m\u001b[38;5;124mun \u001b[39m\u001b[38;5;124m\"\u001b[39m\u001b[38;5;124mmypath\u001b[39m\u001b[38;5;130;01m\\\\\u001b[39;00m\u001b[38;5;124mmyfile.py\u001b[39m\u001b[38;5;124m\"\u001b[39m\u001b[38;5;124m'\u001b[39m)\n\u001b[1;32m--> 727\u001b[0m     \u001b[38;5;28;01mraise\u001b[39;00m \u001b[38;5;167;01mException\u001b[39;00m(msg) \u001b[38;5;28;01mfrom\u001b[39;00m \u001b[38;5;21;01me\u001b[39;00m\n\u001b[0;32m    728\u001b[0m \u001b[38;5;28;01mexcept\u001b[39;00m \u001b[38;5;167;01mTypeError\u001b[39;00m:\n\u001b[0;32m    729\u001b[0m     \u001b[38;5;28;01mif\u001b[39;00m fpath \u001b[38;5;129;01min\u001b[39;00m sys\u001b[38;5;241m.\u001b[39mmeta_path:\n",
      "\u001b[1;31mException\u001b[0m: File `'ipykernel_launcher.py'` not found."
     ]
    }
   ],
   "source": [
    "%run ipykernel_launcher.py --VoTT_Folder \"C:\\Users\\Ashis\\Downloads\\Compressed\\Train your YOLO\\TrainYourOwnYOLO-master\\Data\\Source_Images\\Training_Images\\vott-csv-export\" --VoTT_csv \"C:\\Users\\Ashis\\Downloads\\Compressed\\Train your YOLO\\TrainYourOwnYOLO-master\\Data\\Source_Images\\Training_Images\\vott-csv-export\\Annotations-export.csv\" --YOLO_filename \"C:\\Users\\Ashis\\Downloads\\Compressed\\Train your YOLO\\TrainYourOwnYOLO-master\\Data\\Source_Images\\Training_Images\\vott-csv-export\\data_train.txt\"\n"
   ]
  },
  {
   "cell_type": "code",
   "execution_count": 3,
   "id": "a9f49a79",
   "metadata": {},
   "outputs": [
    {
     "name": "stdout",
     "output_type": "stream",
     "text": [
      "Note: you may need to restart the kernel to use updated packages.\n"
     ]
    },
    {
     "name": "stderr",
     "output_type": "stream",
     "text": [
      "\n",
      "Usage:   \n",
      "  C:\\ProgramData\\anaconda3\\python.exe -m pip <command> [options]\n",
      "\n",
      "no such option: --upgrade\n"
     ]
    }
   ],
   "source": [
    "pip --upgrade install pandas"
   ]
  },
  {
   "cell_type": "code",
   "execution_count": 4,
   "id": "c2d04a95",
   "metadata": {},
   "outputs": [
    {
     "name": "stdout",
     "output_type": "stream",
     "text": [
      "Requirement already satisfied: pandas in c:\\programdata\\anaconda3\\lib\\site-packages (2.2.0)\n",
      "Requirement already satisfied: numpy<2,>=1.23.2 in c:\\programdata\\anaconda3\\lib\\site-packages (from pandas) (1.24.3)\n",
      "Requirement already satisfied: python-dateutil>=2.8.2 in c:\\programdata\\anaconda3\\lib\\site-packages (from pandas) (2.8.2)\n",
      "Requirement already satisfied: pytz>=2020.1 in c:\\programdata\\anaconda3\\lib\\site-packages (from pandas) (2023.3.post1)\n",
      "Requirement already satisfied: tzdata>=2022.7 in c:\\programdata\\anaconda3\\lib\\site-packages (from pandas) (2023.3)\n",
      "Requirement already satisfied: six>=1.5 in c:\\programdata\\anaconda3\\lib\\site-packages (from python-dateutil>=2.8.2->pandas) (1.16.0)\n",
      "Note: you may need to restart the kernel to use updated packages.\n"
     ]
    }
   ],
   "source": []
  },
  {
   "cell_type": "code",
   "execution_count": null,
   "id": "a6486caf",
   "metadata": {},
   "outputs": [],
   "source": []
  }
 ],
 "metadata": {
  "kernelspec": {
   "display_name": "Python 3 (ipykernel)",
   "language": "python",
   "name": "python3"
  },
  "language_info": {
   "codemirror_mode": {
    "name": "ipython",
    "version": 3
   },
   "file_extension": ".py",
   "mimetype": "text/x-python",
   "name": "python",
   "nbconvert_exporter": "python",
   "pygments_lexer": "ipython3",
   "version": "3.11.5"
  }
 },
 "nbformat": 4,
 "nbformat_minor": 5
}
