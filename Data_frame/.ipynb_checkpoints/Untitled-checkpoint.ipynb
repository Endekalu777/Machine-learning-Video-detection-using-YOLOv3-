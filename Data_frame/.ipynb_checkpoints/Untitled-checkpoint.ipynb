{
 "cells": [
  {
   "cell_type": "code",
   "execution_count": null,
   "id": "f17d37de",
   "metadata": {},
   "outputs": [],
   "source": [
    "import cv2\n",
    "import os\n",
    "import numpy as np\n",
    "from sklearn.svm import SVC\n",
    "from sklearn.metrics import accuracy_score\n",
    "from sklearn.model_selection import train_test_split\n",
    "from skimage.feature import hog\n",
    "from skimage import exposure\n",
    "import random\n"
   ]
  },
  {
   "cell_type": "code",
   "execution_count": null,
   "id": "a08aea56",
   "metadata": {},
   "outputs": [],
   "source": [
    "\n",
    "\n",
    "# Define the video directory\n",
    "video_directory = 'C:/Users/Ashis/Desktop/Untitled Folder/videos'\n",
    "\n",
    "\n",
    "# Functions for reading videos from directory and extracting frames\n",
    "def read_videos_from_directory(directory):\n",
    "    videos = []\n",
    "    for filename in os.listdir(directory):\n",
    "        if filename.endswith('.mov'):\n",
    "            videos.append(os.path.join(directory, filename))\n",
    "    return videos\n",
    "\n",
    "\n",
    "def extract_frames(video_file, output_directory):\n",
    "    cap = cv2.VideoCapture(video_file)\n",
    "    if not cap.isOpened():\n",
    "        print(f\"Error: Failed to open video file: {video_file}\")\n",
    "        return\n",
    "\n",
    "    frame_count = 0\n",
    "    while True:\n",
    "        ret, frame = cap.read()\n",
    "        if not ret:\n",
    "            break\n",
    "        frame = cv2.resize(frame, (320, 240))\n",
    "        output_file = os.path.join(output_directory, f'frame_{frame_count}.jpg')\n",
    "        cv2.imwrite(output_file, frame)\n",
    "        frame_count += 1\n",
    "    cap.release()\n",
    "\n",
    "\n",
    "# Extract HOG features\n",
    "def extract_hog_features(image):\n",
    "    fd, hog_image = hog(image, orientations=8, pixels_per_cell=(16, 16),\n",
    "                        cells_per_block=(1, 1), visualize=True)\n",
    "    hog_image_rescaled = exposure.rescale_intensity(hog_image, in_range=(0, 10))\n",
    "    return fd\n",
    "\n",
    "\n",
    "# Read videos and extract frames\n",
    "video_files = read_videos_from_directory(video_directory)\n",
    "output_directory = 'C:/Users/Ashis/Desktop/Untitled Folder/frames'\n",
    "\n",
    "print(\"Video files found:\", video_files)\n",
    "\n",
    "print(\"Extracting frames from videos...\")\n",
    "for video_file in video_files:\n",
    "    print(f\"Extracting frames from {video_file}...\")\n",
    "    extract_frames(video_file, output_directory)\n",
    "print(\"Frames extraction complete\")\n"
   ]
  },
  {
   "cell_type": "code",
   "execution_count": null,
   "id": "7172258a",
   "metadata": {},
   "outputs": [],
   "source": [
    "# Collect HOG features and labels\n",
    "X = []\n",
    "y = []\n",
    "\n",
    "for root, dirs, files in os.walk(output_directory):\n",
    "    for file in files:\n",
    "        if file.endswith(\".jpg\"):\n",
    "            img_path = os.path.join(root, file)\n",
    "            img = cv2.imread(img_path, cv2.IMREAD_COLOR)\n",
    "            if img is None:\n",
    "                print(f\"Error: Unable to read image file: {img_path}\")\n",
    "                continue\n",
    "\n",
    "            # Convert image to grayscale\n",
    "            gray = cv2.cvtColor(img, cv2.COLOR_BGR2GRAY)\n",
    "\n",
    "            # Extract HOG features\n",
    "            hog_features = extract_hog_features(gray)\n",
    "            X.append(hog_features)\n",
    "\n",
    "            # Assuming presence of cars is indicated by the directory structure\n",
    "            if \"car\" in root:\n",
    "                y.append(1)\n",
    "            else:\n",
    "                y.append(0)\n"
   ]
  },
  {
   "cell_type": "code",
   "execution_count": null,
   "id": "c04da0ad",
   "metadata": {},
   "outputs": [],
   "source": [
    "# Check the unique labels in the dataset\n",
    "unique_labels = set(y)\n",
    "if len(unique_labels) < 2:\n",
    "    print(\"Error: Dataset must contain samples from at least two classes.\")\n",
    "    print(\"Unique labels found in the dataset:\", unique_labels)\n",
    "    exit()"
   ]
  },
  {
   "cell_type": "code",
   "execution_count": null,
   "id": "6dd31f97",
   "metadata": {},
   "outputs": [],
   "source": [
    "# Step 1: Split the videos into training, testing, and evaluation sets\n",
    "video_files = read_videos_from_directory(video_directory)\n",
    "random.shuffle(video_files)  # Shuffle the videos randomly\n",
    "\n",
    "train_videos = video_files[:20]\n",
    "test_videos = video_files[20:25]  # 5 videos for testing\n",
    "eval_videos = video_files[25:]    # 5 videos for evaluation\n"
   ]
  },
  {
   "cell_type": "code",
   "execution_count": null,
   "id": "b1e13931",
   "metadata": {},
   "outputs": [],
   "source": [
    "# Step 2: Extract frames and collect features for each set\n",
    "X_train, y_train = collect_features_from_videos(train_videos)\n",
    "X_test, y_test = collect_features_from_videos(test_videos)\n",
    "X_eval, y_eval = collect_features_from_videos(eval_videos)\n"
   ]
  },
  {
   "cell_type": "code",
   "execution_count": null,
   "id": "69a22c8f",
   "metadata": {},
   "outputs": [],
   "source": [
    "# Step 3: Train the model\n",
    "svm_classifier = SVC(kernel='linear')\n",
    "svm_classifier.fit(X_train, y_train)"
   ]
  },
  {
   "cell_type": "code",
   "execution_count": null,
   "id": "2abaeafc",
   "metadata": {},
   "outputs": [],
   "source": [
    "# Step 4: Test the model\n",
    "y_test_pred = svm_classifier.predict(X_test)\n",
    "accuracy_test = accuracy_score(y_test, y_test_pred)\n",
    "print(\"Accuracy on the testing set:\", accuracy_test)"
   ]
  },
  {
   "cell_type": "code",
   "execution_count": null,
   "id": "ea9f7b92",
   "metadata": {},
   "outputs": [],
   "source": [
    "# Step 5: Evaluate the model\n",
    "y_eval_pred = svm_classifier.predict(X_eval)\n",
    "accuracy_eval = accuracy_score(y_eval, y_eval_pred)\n",
    "print(\"Accuracy on the evaluation set:\", accuracy_eval)"
   ]
  },
  {
   "cell_type": "code",
   "execution_count": null,
   "id": "a0572f34",
   "metadata": {},
   "outputs": [],
   "source": []
  }
 ],
 "metadata": {
  "kernelspec": {
   "display_name": "Python 3 (ipykernel)",
   "language": "python",
   "name": "python3"
  },
  "language_info": {
   "codemirror_mode": {
    "name": "ipython",
    "version": 3
   },
   "file_extension": ".py",
   "mimetype": "text/x-python",
   "name": "python",
   "nbconvert_exporter": "python",
   "pygments_lexer": "ipython3",
   "version": "3.11.5"
  }
 },
 "nbformat": 4,
 "nbformat_minor": 5
}
